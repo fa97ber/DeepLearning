{
 "cells": [
  {
   "cell_type": "code",
   "execution_count": 56,
   "metadata": {},
   "outputs": [
    {
     "data": {
      "text/plain": [
       "'2.0.0'"
      ]
     },
     "execution_count": 56,
     "metadata": {},
     "output_type": "execute_result"
    }
   ],
   "source": [
    "import gzip\n",
    "import numpy as np\n",
    "import matplotlib.pyplot as plt\n",
    "import tensorflow as tf\n",
    "from tensorflow.keras.preprocessing.image import ImageDataGenerator\n",
    "from tensorflow.keras.models import Sequential\n",
    "from tensorflow.keras.layers import Dense, Dropout, Activation, Flatten\n",
    "from tensorflow.keras.layers import Conv2D, MaxPooling2D\n",
    "from tensorflow.keras.optimizers import SGD\n",
    "\n",
    "tf.__version__"
   ]
  },
  {
   "cell_type": "code",
   "execution_count": 3,
   "metadata": {},
   "outputs": [],
   "source": [
    "# Downloading the data, if it does not exist, this will take some time... (>120MB)\n",
    "import urllib\n",
    "import os\n",
    "if not os.path.isfile('8_faces_train_and_valid.hdf5'):\n",
    "    urllib.request.urlretrieve(\"https://www.dropbox.com/s/dx03vk6dmbtoywn/8_faces_train_and_valid.hdf5?dl=1\",\"8_faces_train_and_valid.hdf5\")"
   ]
  },
  {
   "cell_type": "code",
   "execution_count": 9,
   "metadata": {},
   "outputs": [
    {
     "name": "stdout",
     "output_type": "stream",
     "text": [
      "['X_train_8_faces', 'X_valid_8_faces', 'Y_train_8_faces', 'Y_valid_8_faces']\n",
      "(2000, 48, 48, 3)\n",
      "(2000,)\n",
      "(400, 48, 48, 3)\n",
      "(400,) float64\n"
     ]
    }
   ],
   "source": [
    "import h5py\n",
    "h5f_X = h5py.File('8_faces_train_and_valid.hdf5', 'r')\n",
    "print(list(h5f_X.keys()))\n",
    "X_train = h5f_X['X_train_8_faces'].value\n",
    "print(X_train.shape)\n",
    "Y_train = h5f_X['Y_train_8_faces'].value\n",
    "print(Y_train.shape)\n",
    "X_valid = h5f_X['X_valid_8_faces'].value\n",
    "print(X_valid.shape)\n",
    "Y_valid = h5f_X['Y_valid_8_faces'].value\n",
    "print(Y_valid.shape, X_valid.dtype)"
   ]
  },
  {
   "cell_type": "code",
   "execution_count": 10,
   "metadata": {},
   "outputs": [
    {
     "name": "stdout",
     "output_type": "stream",
     "text": [
      "250\n"
     ]
    },
    {
     "data": {
      "text/plain": [
       "<matplotlib.image.AxesImage at 0x21eea29dbe0>"
      ]
     },
     "execution_count": 10,
     "metadata": {},
     "output_type": "execute_result"
    },
    {
     "data": {
      "image/png": "[encoded data removed]",
      "text/plain": [
       "<Figure size 432x288 with 1 Axes>"
      ]
     },
     "metadata": {
      "needs_background": "light"
     },
     "output_type": "display_data"
    }
   ],
   "source": [
    "n = 0 #Miranda Cosgrove\n",
    "n = 1 #Chris Martin (singer)\n",
    "n = 2 #Emma Stone (actress)\n",
    "n = 3 #Jamie Foxx (actor)\n",
    "n = 4 #Steve Jobs (entrepreneur)\n",
    "n = 5 #Zac Efron (actor)\n",
    "n = 6 #Sandra Oh (actress)\n",
    "n = 7 #Taryn Manning (actress)\n",
    "n = 4 \n",
    "idx=np.reshape(np.where(Y_train[0:len(Y_train)]==n),(250))\n",
    "print(len(Y_train[idx]))\n",
    "plt.imshow(np.asarray(X_train[idx][0],dtype=\"uint8\"))"
   ]
  },
  {
   "cell_type": "code",
   "execution_count": 11,
   "metadata": {},
   "outputs": [
    {
     "name": "stdout",
     "output_type": "stream",
     "text": [
      "['X_test_8_faces', 'Y_test_8_faces']\n",
      "(400, 48, 48, 3)\n",
      "(400,)\n"
     ]
    }
   ],
   "source": [
    "#Downloading the data, if it does not exist\n",
    "if not os.path.isfile('8_faces_test.hdf5'):\n",
    "  urllib.request.urlretrieve(\"https://www.dropbox.com/s/ugxrdo0lpc2ixvr/8_faces_test.hdf5?dl=1\",\"8_faces_test.hdf5\")\n",
    "h5f_X = h5py.File('8_faces_test.hdf5', 'r')\n",
    "print(list(h5f_X.keys()))\n",
    "X_test = h5f_X['X_test_8_faces'].value\n",
    "print(X_test.shape)\n",
    "Y_test = h5f_X['Y_test_8_faces'].value\n",
    "print(Y_test.shape)"
   ]
  },
  {
   "cell_type": "code",
   "execution_count": 12,
   "metadata": {},
   "outputs": [],
   "source": [
    "np.min(X_train),np.max(X_train),np.min(X_test),np.max(X_test)\n",
    "X_train /= 255\n",
    "X_valid /= 255\n",
    "X_test /= 255"
   ]
  },
  {
   "cell_type": "markdown",
   "metadata": {},
   "source": [
    "<h3>a) Training an CNN from scratch</h3>\n",
    "\n",
    "Train a model (as shown below) from scratch, using the training data for training and the validation data for validation. For all activations in the hidden layer use the 'ReLU', for the last layer use softmax. Use 3x3 convolutions and use padding = same.\n",
    "\n",
    "- Plot the learning curves: (epochs vs training loss and validation loss) and epochs vs accuracy.\n",
    "- Calculate the accuracy on the test set (you should reach an accuracy of about 0.54)\n",
    "- Calculate the confusion matrix\n",
    "- Have a look at missclassified examples\n",
    "\n",
    "Image of the network: https://github.com/ioskn/mldl_htwg/blob/master/uebungen/dl_cnn_faces_net.png"
   ]
  },
  {
   "cell_type": "code",
   "execution_count": 91,
   "metadata": {},
   "outputs": [],
   "source": [
    "model = Sequential()\n",
    "model.add(Conv2D(15, kernel_size=(3, 3),activation='relu',padding='SAME',input_shape=(48, 48, 3)))\n",
    "model.add(Conv2D(15, kernel_size=(3, 3),activation='relu',padding='SAME'))\n",
    "model.add(MaxPooling2D(pool_size=(2, 2)))\n",
    "model.add(Conv2D(30, kernel_size=(3, 3),activation='relu',padding='SAME'))\n",
    "model.add(Conv2D(30, kernel_size=(3, 3),activation='relu',padding='SAME'))\n",
    "model.add(MaxPooling2D(pool_size=(4, 4)))\n",
    "model.add(Flatten())\n",
    "model.add(Dense(300, activation='relu'))\n",
    "model.add(Dropout(0.5))\n",
    "model.add(Dense(8, activation='softmax'))"
   ]
  },
  {
   "cell_type": "code",
   "execution_count": 92,
   "metadata": {},
   "outputs": [
    {
     "name": "stdout",
     "output_type": "stream",
     "text": [
      "Model: \"sequential_29\"\n",
      "_________________________________________________________________\n",
      "Layer (type)                 Output Shape              Param #   \n",
      "=================================================================\n",
      "conv2d_94 (Conv2D)           (None, 48, 48, 15)        420       \n",
      "_________________________________________________________________\n",
      "conv2d_95 (Conv2D)           (None, 48, 48, 15)        2040      \n",
      "_________________________________________________________________\n",
      "max_pooling2d_47 (MaxPooling (None, 24, 24, 15)        0         \n",
      "_________________________________________________________________\n",
      "conv2d_96 (Conv2D)           (None, 24, 24, 30)        4080      \n",
      "_________________________________________________________________\n",
      "conv2d_97 (Conv2D)           (None, 24, 24, 30)        8130      \n",
      "_________________________________________________________________\n",
      "max_pooling2d_48 (MaxPooling (None, 6, 6, 30)          0         \n",
      "_________________________________________________________________\n",
      "flatten_19 (Flatten)         (None, 1080)              0         \n",
      "_________________________________________________________________\n",
      "dense_26 (Dense)             (None, 300)               324300    \n",
      "_________________________________________________________________\n",
      "dropout_13 (Dropout)         (None, 300)               0         \n",
      "_________________________________________________________________\n",
      "dense_27 (Dense)             (None, 8)                 2408      \n",
      "=================================================================\n",
      "Total params: 341,378\n",
      "Trainable params: 341,378\n",
      "Non-trainable params: 0\n",
      "_________________________________________________________________\n"
     ]
    }
   ],
   "source": [
    "model.summary()"
   ]
  },
  {
   "cell_type": "code",
   "execution_count": 96,
   "metadata": {},
   "outputs": [],
   "source": [
    "model.compile(loss='sparse_categorical_crossentropy',\n",
    "              metrics=['accuracy'])"
   ]
  },
  {
   "cell_type": "code",
   "execution_count": 97,
   "metadata": {},
   "outputs": [
    {
     "name": "stdout",
     "output_type": "stream",
     "text": [
      "Train on 2000 samples, validate on 400 samples\n",
      "Epoch 1/10\n",
      "2000/2000 [==============================] - 23s 11ms/sample - loss: 1.9675 - accuracy: 0.2255 - val_loss: 1.7974 - val_accuracy: 0.3350\n",
      "Epoch 2/10\n",
      "2000/2000 [==============================] - 27s 14ms/sample - loss: 1.6991 - accuracy: 0.3550 - val_loss: 1.5406 - val_accuracy: 0.4425\n",
      "Epoch 3/10\n",
      "2000/2000 [==============================] - 26s 13ms/sample - loss: 1.4694 - accuracy: 0.4605 - val_loss: 1.4428 - val_accuracy: 0.4550\n",
      "Epoch 4/10\n",
      "2000/2000 [==============================] - 25s 13ms/sample - loss: 1.2909 - accuracy: 0.5375 - val_loss: 1.2774 - val_accuracy: 0.5000\n",
      "Epoch 5/10\n",
      "2000/2000 [==============================] - 26s 13ms/sample - loss: 1.1316 - accuracy: 0.6040 - val_loss: 1.2518 - val_accuracy: 0.5600\n",
      "Epoch 6/10\n",
      "2000/2000 [==============================] - 25s 13ms/sample - loss: 0.9694 - accuracy: 0.6660 - val_loss: 1.1303 - val_accuracy: 0.5875\n",
      "Epoch 7/10\n",
      "2000/2000 [==============================] - 25s 13ms/sample - loss: 0.8601 - accuracy: 0.6990 - val_loss: 1.0639 - val_accuracy: 0.6325\n",
      "Epoch 8/10\n",
      "2000/2000 [==============================] - 25s 13ms/sample - loss: 0.7531 - accuracy: 0.7525 - val_loss: 1.1174 - val_accuracy: 0.6300\n",
      "Epoch 9/10\n",
      "2000/2000 [==============================] - 26s 13ms/sample - loss: 0.6562 - accuracy: 0.7700 - val_loss: 1.0414 - val_accuracy: 0.6475\n",
      "Epoch 10/10\n",
      "2000/2000 [==============================] - 26s 13ms/sample - loss: 0.5484 - accuracy: 0.8070 - val_loss: 1.0799 - val_accuracy: 0.6525\n"
     ]
    }
   ],
   "source": [
    "history = model.fit(X_train, Y_train,\n",
    "          epochs=10, \n",
    "          batch_size=16,\n",
    "          validation_data=(X_valid, Y_valid))"
   ]
  },
  {
   "cell_type": "code",
   "execution_count": 98,
   "metadata": {},
   "outputs": [
    {
     "data": {
      "text/plain": [
       "[<matplotlib.lines.Line2D at 0x21e89dc0278>]"
      ]
     },
     "execution_count": 98,
     "metadata": {},
     "output_type": "execute_result"
    },
    {
     "data": {
      "image/png": "[encoded data removed]",
      "text/plain": [
       "<Figure size 432x288 with 1 Axes>"
      ]
     },
     "metadata": {
      "needs_background": "light"
     },
     "output_type": "display_data"
    }
   ],
   "source": [
    "plt.plot(history.history['loss'])\n",
    "plt.plot(history.history['val_loss'])"
   ]
  },
  {
   "cell_type": "code",
   "execution_count": 99,
   "metadata": {},
   "outputs": [
    {
     "data": {
      "text/plain": [
       "[<matplotlib.lines.Line2D at 0x21e9edcab00>]"
      ]
     },
     "execution_count": 99,
     "metadata": {},
     "output_type": "execute_result"
    },
    {
     "data": {
      "image/png": "[encoded data removed]",
      "text/plain": [
       "<Figure size 432x288 with 1 Axes>"
      ]
     },
     "metadata": {
      "needs_background": "light"
     },
     "output_type": "display_data"
    }
   ],
   "source": [
    "plt.plot(history.history['accuracy'])\n",
    "plt.plot(history.history['val_accuracy'])"
   ]
  },
  {
   "cell_type": "code",
   "execution_count": 100,
   "metadata": {},
   "outputs": [
    {
     "name": "stdout",
     "output_type": "stream",
     "text": [
      "Test loss: 0.9270144367218017\n",
      "Test accuracy: 0.7\n"
     ]
    }
   ],
   "source": [
    "score = model.evaluate(X_test, Y_test, verbose=0)\n",
    "print('Test loss:', score[0])\n",
    "print('Test accuracy:', score[1])"
   ]
  }
 ],
 "metadata": {
  "kernelspec": {
   "display_name": "Python 3",
   "language": "python",
   "name": "python3"
  },
  "language_info": {
   "codemirror_mode": {
    "name": "ipython",
    "version": 3
   },
   "file_extension": ".py",
   "mimetype": "text/x-python",
   "name": "python",
   "nbconvert_exporter": "python",
   "pygments_lexer": "ipython3",
   "version": "3.7.3"
  }
 },
 "nbformat": 4,
 "nbformat_minor": 2
}
