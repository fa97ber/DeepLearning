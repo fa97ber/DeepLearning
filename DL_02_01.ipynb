{
 "cells": [
  {
   "cell_type": "code",
   "execution_count": 1,
   "metadata": {},
   "outputs": [
    {
     "data": {
      "text/plain": [
       "'2.0.0'"
      ]
     },
     "execution_count": 1,
     "metadata": {},
     "output_type": "execute_result"
    }
   ],
   "source": [
    "import numpy as np\n",
    "import matplotlib.image as mpimg\n",
    "import matplotlib.pyplot as plt\n",
    "\n",
    "import tensorflow as tf\n",
    "import tensorflow.keras as keras\n",
    "from tensorflow.keras.models import Sequential\n",
    "from tensorflow.keras.layers import Dense, Convolution2D, MaxPooling2D, Flatten , Activation, Dropout\n",
    "from tensorflow.keras.optimizers import SGD\n",
    "tf.__version__"
   ]
  },
  {
   "cell_type": "code",
   "execution_count": 2,
   "metadata": {},
   "outputs": [],
   "source": [
    "def create_images(cnt):\n",
    "    images = np.zeros((cnt, 50,50,1))\n",
    "    labels = np.zeros((cnt,2))\n",
    "    for c in range(cnt):\n",
    "        image = np.zeros((50,50,1))\n",
    "        line_count = 10\n",
    "        line_length = 10\n",
    "        line_type = np.random.randint(2, size=1)\n",
    "        labels[c][line_type] = 1 #One-Hot-Coding\n",
    "        for _ in range(line_count):\n",
    "            line = np.zeros((line_length,2))\n",
    "            line[0] = np.random.randint(50, size=2)\n",
    "            index = 1\n",
    "            bordered = False\n",
    "            while index < line_length:\n",
    "                point = np.copy(line[index - 1])\n",
    "                if point[line_type] + 1 < 50 and not bordered:\n",
    "                    point[line_type] += 1\n",
    "                    line[index] = point\n",
    "                elif point[line_type] + 1 >= 50 or bordered:\n",
    "                    bordered = True\n",
    "                    if line[0][line_type] < point[line_type]:\n",
    "                        point = np.copy(line[0])\n",
    "                    point[line_type] -= 1     \n",
    "                    line[index] = point\n",
    "                index += 1\n",
    "            #print(line)\n",
    "            for point in line:\n",
    "                p = point.astype(int)\n",
    "                image[p[0]][p[1]] = 1\n",
    "        images[c] = image.astype(int)\n",
    "    return images, labels"
   ]
  },
  {
   "cell_type": "code",
   "execution_count": 3,
   "metadata": {},
   "outputs": [],
   "source": [
    "train_data, train_label = create_images(1000)\n",
    "val_data, val_label = create_images(1000)"
   ]
  },
  {
   "cell_type": "code",
   "execution_count": 4,
   "metadata": {},
   "outputs": [
    {
     "name": "stdout",
     "output_type": "stream",
     "text": [
      "[1. 0.]\n"
     ]
    },
    {
     "data": {
      "image/png": "[encoded data removed]",
      "text/plain": [
       "<Figure size 432x288 with 1 Axes>"
      ]
     },
     "metadata": {
      "needs_background": "light"
     },
     "output_type": "display_data"
    },
    {
     "name": "stdout",
     "output_type": "stream",
     "text": [
      "[0. 1.]\n"
     ]
    },
    {
     "data": {
      "image/png": "[encoded data removed]",
      "text/plain": [
       "<Figure size 432x288 with 1 Axes>"
      ]
     },
     "metadata": {
      "needs_background": "light"
     },
     "output_type": "display_data"
    }
   ],
   "source": [
    "plt.imshow(np.reshape(train_data[0],(50,50)), 'gray')\n",
    "print(train_label[0])\n",
    "plt.show()\n",
    "plt.imshow(np.reshape(val_data[0],(50,50)), 'gray')\n",
    "print(val_label[0])\n",
    "plt.show()"
   ]
  },
  {
   "cell_type": "markdown",
   "metadata": {},
   "source": [
    "b) Build the simplest possible CNN\n",
    "Make a CNN with one convolution, haveing two outputs (one for horizontal, one for vertical). Train the CNN on the data from a).\n",
    "\n",
    "Plot the learning curves: (epochs vs training loss and validation loss) and epochs vs accuracy.You should get an accuracy of approximatly 1."
   ]
  },
  {
   "cell_type": "code",
   "execution_count": 14,
   "metadata": {},
   "outputs": [],
   "source": [
    "model = Sequential()\n",
    "# model.add(keras.layers.Reshape(target_shape=(50, 50, 1)))\n",
    "model.add(Convolution2D(1, kernel_size=(5,5),activation='relu',input_shape=(50,50, 1)))\n",
    "model.add(Flatten())\n",
    "model.add(Dense(2, activation='softmax'))"
   ]
  },
  {
   "cell_type": "code",
   "execution_count": 15,
   "metadata": {},
   "outputs": [
    {
     "name": "stdout",
     "output_type": "stream",
     "text": [
      "Model: \"sequential_1\"\n",
      "_________________________________________________________________\n",
      "Layer (type)                 Output Shape              Param #   \n",
      "=================================================================\n",
      "conv2d_1 (Conv2D)            (None, 46, 46, 1)         26        \n",
      "_________________________________________________________________\n",
      "flatten_1 (Flatten)          (None, 2116)              0         \n",
      "_________________________________________________________________\n",
      "dense_1 (Dense)              (None, 2)                 4234      \n",
      "=================================================================\n",
      "Total params: 4,260\n",
      "Trainable params: 4,260\n",
      "Non-trainable params: 0\n",
      "_________________________________________________________________\n"
     ]
    }
   ],
   "source": [
    "model.summary()"
   ]
  },
  {
   "cell_type": "code",
   "execution_count": 16,
   "metadata": {},
   "outputs": [],
   "source": [
    "eta = 0.03                  # learning rate\n",
    "sgd = SGD(lr=eta)\n",
    "\n",
    "model.compile(loss='categorical_crossentropy',\n",
    "              optimizer=sgd,\n",
    "              metrics=['accuracy'])"
   ]
  },
  {
   "cell_type": "code",
   "execution_count": 17,
   "metadata": {},
   "outputs": [
    {
     "name": "stdout",
     "output_type": "stream",
     "text": [
      "Train on 1000 samples, validate on 1000 samples\n",
      "Epoch 1/10\n",
      "1000/1000 [==============================] - 4s 4ms/sample - loss: 0.6355 - accuracy: 0.6370 - val_loss: 0.4958 - val_accuracy: 0.7780\n",
      "Epoch 2/10\n",
      "1000/1000 [==============================] - 2s 2ms/sample - loss: 0.3586 - accuracy: 0.9720 - val_loss: 0.2548 - val_accuracy: 1.0000\n",
      "Epoch 3/10\n",
      "1000/1000 [==============================] - 2s 2ms/sample - loss: 0.2015 - accuracy: 1.0000 - val_loss: 0.1615 - val_accuracy: 1.0000\n",
      "Epoch 4/10\n",
      "1000/1000 [==============================] - 2s 2ms/sample - loss: 0.1342 - accuracy: 1.0000 - val_loss: 0.1141 - val_accuracy: 1.0000\n",
      "Epoch 5/10\n",
      "1000/1000 [==============================] - 2s 2ms/sample - loss: 0.0980 - accuracy: 1.0000 - val_loss: 0.0864 - val_accuracy: 1.0000\n",
      "Epoch 6/10\n",
      "1000/1000 [==============================] - 2s 2ms/sample - loss: 0.0764 - accuracy: 1.0000 - val_loss: 0.0692 - val_accuracy: 1.0000\n",
      "Epoch 7/10\n",
      "1000/1000 [==============================] - 2s 2ms/sample - loss: 0.0622 - accuracy: 1.0000 - val_loss: 0.0575 - val_accuracy: 1.0000\n",
      "Epoch 8/10\n",
      "1000/1000 [==============================] - 2s 2ms/sample - loss: 0.0522 - accuracy: 1.0000 - val_loss: 0.0489 - val_accuracy: 1.0000\n",
      "Epoch 9/10\n",
      "1000/1000 [==============================] - 2s 2ms/sample - loss: 0.0448 - accuracy: 1.0000 - val_loss: 0.0425 - val_accuracy: 1.0000\n",
      "Epoch 10/10\n",
      "1000/1000 [==============================] - 2s 2ms/sample - loss: 0.0392 - accuracy: 1.0000 - val_loss: 0.0375 - val_accuracy: 1.0000\n"
     ]
    }
   ],
   "source": [
    "history = model.fit(train_data, train_label,\n",
    "          epochs=10, \n",
    "          batch_size=16,\n",
    "          validation_data=(val_data, val_label))"
   ]
  },
  {
   "cell_type": "code",
   "execution_count": 9,
   "metadata": {},
   "outputs": [],
   "source": [
    "#history.history"
   ]
  },
  {
   "cell_type": "code",
   "execution_count": 18,
   "metadata": {},
   "outputs": [
    {
     "data": {
      "text/plain": [
       "[<matplotlib.lines.Line2D at 0x1b8e56b3080>]"
      ]
     },
     "execution_count": 18,
     "metadata": {},
     "output_type": "execute_result"
    },
    {
     "data": {
      "image/png": "[encoded data removed]",
      "text/plain": [
       "<Figure size 432x288 with 1 Axes>"
      ]
     },
     "metadata": {
      "needs_background": "light"
     },
     "output_type": "display_data"
    }
   ],
   "source": [
    "plt.plot(history.history['loss'])\n",
    "plt.plot(history.history['val_loss'])"
   ]
  },
  {
   "cell_type": "code",
   "execution_count": 19,
   "metadata": {},
   "outputs": [
    {
     "data": {
      "text/plain": [
       "[<matplotlib.lines.Line2D at 0x1b8e5f05c18>]"
      ]
     },
     "execution_count": 19,
     "metadata": {},
     "output_type": "execute_result"
    },
    {
     "data": {
      "image/png": "[encoded data removed]",
      "text/plain": [
       "<Figure size 432x288 with 1 Axes>"
      ]
     },
     "metadata": {
      "needs_background": "light"
     },
     "output_type": "display_data"
    }
   ],
   "source": [
    "plt.plot(history.history['accuracy'])\n",
    "plt.plot(history.history['val_accuracy'])"
   ]
  },
  {
   "cell_type": "markdown",
   "metadata": {},
   "source": [
    "c) \n",
    "Visualize the learned kernel, you might want to use model.get_weights(). Does the learned kernel makes sense?"
   ]
  },
  {
   "cell_type": "code",
   "execution_count": 20,
   "metadata": {},
   "outputs": [
    {
     "data": {
      "text/plain": [
       "((5, 5, 1, 1), (1,), (2116, 2), (2,))"
      ]
     },
     "execution_count": 20,
     "metadata": {},
     "output_type": "execute_result"
    }
   ],
   "source": [
    "model.get_weights()[0].shape, model.get_weights()[1].shape, model.get_weights()[2].shape, model.get_weights()[3].shape"
   ]
  },
  {
   "cell_type": "code",
   "execution_count": 21,
   "metadata": {},
   "outputs": [
    {
     "name": "stdout",
     "output_type": "stream",
     "text": [
      "[[-0.19276015  0.4614146  -0.32779184 -0.14584121  0.2942924 ]\n",
      " [-0.2112491   0.51797605 -0.35966137 -0.2019877   0.25848567]\n",
      " [-0.32207584  0.28278437 -0.01132443 -0.31480727  0.33717638]\n",
      " [-0.1831205   0.4620361  -0.30815446 -0.11848826  0.24603656]\n",
      " [-0.14841108  0.3178816  -0.00614694 -0.4693241   0.37750044]] \n",
      "\n",
      " [-0.30836922] \n",
      "\n",
      " [[-0.01082177  0.04273763]\n",
      " [-0.03288155 -0.01432806]\n",
      " [ 0.00123982 -0.01230463]\n",
      " ...\n",
      " [ 0.07186899 -0.09152018]\n",
      " [ 0.00377314 -0.03680509]\n",
      " [ 0.05639414 -0.04005774]] \n",
      "\n",
      " [-1.3639904  1.3639902]\n"
     ]
    }
   ],
   "source": [
    "print(np.reshape(model.get_weights()[0], (5,5)),'\\n\\n', \n",
    "      model.get_weights()[1],'\\n\\n', \n",
    "      model.get_weights()[2],'\\n\\n', \n",
    "      model.get_weights()[3])"
   ]
  },
  {
   "cell_type": "code",
   "execution_count": null,
   "metadata": {},
   "outputs": [],
   "source": []
  }
 ],
 "metadata": {
  "kernelspec": {
   "display_name": "Python 3",
   "language": "python",
   "name": "python3"
  },
  "language_info": {
   "codemirror_mode": {
    "name": "ipython",
    "version": 3
   },
   "file_extension": ".py",
   "mimetype": "text/x-python",
   "name": "python",
   "nbconvert_exporter": "python",
   "pygments_lexer": "ipython3",
   "version": "3.7.3"
  }
 },
 "nbformat": 4,
 "nbformat_minor": 2
}
