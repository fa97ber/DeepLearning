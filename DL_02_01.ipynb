{
 "cells": [
  {
   "cell_type": "code",
   "execution_count": 1,
   "metadata": {},
   "outputs": [
    {
     "data": {
      "text/plain": [
       "'2.0.0'"
      ]
     },
     "execution_count": 1,
     "metadata": {},
     "output_type": "execute_result"
    }
   ],
   "source": [
    "import numpy as np\n",
    "import matplotlib.image as mpimg\n",
    "import matplotlib.pyplot as plt\n",
    "\n",
    "import tensorflow as tf\n",
    "import tensorflow.keras as keras\n",
    "from tensorflow.keras.models import Sequential\n",
    "from tensorflow.keras.layers import Dense, Convolution2D, MaxPooling2D, Flatten , Activation, Dropout\n",
    "from tensorflow.keras.optimizers import SGD\n",
    "tf.__version__"
   ]
  },
  {
   "cell_type": "code",
   "execution_count": 2,
   "metadata": {},
   "outputs": [],
   "source": [
    "def create_images(cnt):\n",
    "    images = np.zeros((cnt, 50,50,1))\n",
    "    labels = np.zeros((cnt,2))\n",
    "    for c in range(cnt):\n",
    "        image = np.zeros((50,50,1))\n",
    "        line_count = 10\n",
    "        line_length = 10\n",
    "        line_type = np.random.randint(2, size=1)\n",
    "        labels[c][line_type] = 1 #One-Hot-Coding\n",
    "        for _ in range(line_count):\n",
    "            line = np.zeros((line_length,2))\n",
    "            line[0] = np.random.randint(50, size=2)\n",
    "            index = 1\n",
    "            bordered = False\n",
    "            while index < line_length:\n",
    "                point = np.copy(line[index - 1])\n",
    "                if point[line_type] + 1 < 50 and not bordered:\n",
    "                    point[line_type] += 1\n",
    "                    line[index] = point\n",
    "                elif point[line_type] + 1 >= 50 or bordered:\n",
    "                    bordered = True\n",
    "                    if line[0][line_type] < point[line_type]:\n",
    "                        point = np.copy(line[0])\n",
    "                    point[line_type] -= 1     \n",
    "                    line[index] = point\n",
    "                index += 1\n",
    "            #print(line)\n",
    "            for point in line:\n",
    "                p = point.astype(int)\n",
    "                image[p[0]][p[1]] = 1\n",
    "        images[c] = image.astype(int)\n",
    "    return images, labels"
   ]
  },
  {
   "cell_type": "code",
   "execution_count": 3,
   "metadata": {},
   "outputs": [],
   "source": [
    "train_data, train_label = create_images(1000)\n",
    "val_data, val_label = create_images(1000)"
   ]
  },
  {
   "cell_type": "code",
   "execution_count": 4,
   "metadata": {},
   "outputs": [
    {
     "name": "stdout",
     "output_type": "stream",
     "text": [
      "[1. 0.]\n"
     ]
    },
    {
     "data": {
      "image/png": "[encoded data removed]",
      "text/plain": [
       "<Figure size 432x288 with 1 Axes>"
      ]
     },
     "metadata": {
      "needs_background": "light"
     },
     "output_type": "display_data"
    },
    {
     "name": "stdout",
     "output_type": "stream",
     "text": [
      "[0. 1.]\n"
     ]
    },
    {
     "data": {
      "image/png": "[encoded data removed]",
      "text/plain": [
       "<Figure size 432x288 with 1 Axes>"
      ]
     },
     "metadata": {
      "needs_background": "light"
     },
     "output_type": "display_data"
    }
   ],
   "source": [
    "plt.imshow(np.reshape(train_data[0],(50,50)), 'gray')\n",
    "print(train_label[0])\n",
    "plt.show()\n",
    "plt.imshow(np.reshape(val_data[0],(50,50)), 'gray')\n",
    "print(val_label[0])\n",
    "plt.show()"
   ]
  },
  {
   "cell_type": "markdown",
   "metadata": {},
   "source": [
    "b) Build the simplest possible CNN\n",
    "Make a CNN with one convolution, haveing two outputs (one for horizontal, one for vertical). Train the CNN on the data from a).\n",
    "\n",
    "Plot the learning curves: (epochs vs training loss and validation loss) and epochs vs accuracy.You should get an accuracy of approximatly 1."
   ]
  },
  {
   "cell_type": "code",
   "execution_count": 5,
   "metadata": {},
   "outputs": [],
   "source": [
    "model = Sequential()\n",
    "# model.add(keras.layers.Reshape(target_shape=(50, 50, 1)))\n",
    "model.add(Convolution2D(1, kernel_size=(5,5),activation='relu',padding='SAME',input_shape=(50,50, 1)))\n",
    "model.add(MaxPooling2D(pool_size=(50, 50)))\n",
    "model.add(Flatten())\n",
    "model.add(Dense(2, activation='softmax'))#\n",
    "#model.add(Activation('softmax'))"
   ]
  },
  {
   "cell_type": "code",
   "execution_count": 6,
   "metadata": {},
   "outputs": [
    {
     "name": "stdout",
     "output_type": "stream",
     "text": [
      "Model: \"sequential\"\n",
      "_________________________________________________________________\n",
      "Layer (type)                 Output Shape              Param #   \n",
      "=================================================================\n",
      "conv2d (Conv2D)              (None, 50, 50, 1)         26        \n",
      "_________________________________________________________________\n",
      "max_pooling2d (MaxPooling2D) (None, 1, 1, 1)           0         \n",
      "_________________________________________________________________\n",
      "flatten (Flatten)            (None, 1)                 0         \n",
      "_________________________________________________________________\n",
      "dense (Dense)                (None, 2)                 4         \n",
      "=================================================================\n",
      "Total params: 30\n",
      "Trainable params: 30\n",
      "Non-trainable params: 0\n",
      "_________________________________________________________________\n"
     ]
    }
   ],
   "source": [
    "model.summary()"
   ]
  },
  {
   "cell_type": "code",
   "execution_count": 7,
   "metadata": {},
   "outputs": [],
   "source": [
    "eta = 0.02                  # learning rate\n",
    "wdecay = 0.5/train_data.shape[0]    # weight decay\n",
    "sgd = SGD(lr=eta, decay=wdecay)\n",
    "\n",
    "\n",
    "model.compile(loss='categorical_crossentropy',\n",
    "              optimizer=sgd,\n",
    "              metrics=['accuracy'])"
   ]
  },
  {
   "cell_type": "code",
   "execution_count": 8,
   "metadata": {},
   "outputs": [
    {
     "name": "stdout",
     "output_type": "stream",
     "text": [
      "Train on 1000 samples, validate on 1000 samples\n",
      "Epoch 1/30\n",
      "1000/1000 [==============================] - 2s 2ms/sample - loss: 0.6991 - accuracy: 0.5070 - val_loss: 0.6885 - val_accuracy: 0.4870\n",
      "Epoch 2/30\n",
      "1000/1000 [==============================] - 1s 1ms/sample - loss: 0.6733 - accuracy: 0.5070 - val_loss: 0.6700 - val_accuracy: 0.4870\n",
      "Epoch 3/30\n",
      "1000/1000 [==============================] - 1s 1ms/sample - loss: 0.6602 - accuracy: 0.5560 - val_loss: 0.6573 - val_accuracy: 0.5440\n",
      "Epoch 4/30\n",
      "1000/1000 [==============================] - 1s 1ms/sample - loss: 0.6456 - accuracy: 0.5660 - val_loss: 0.6397 - val_accuracy: 0.5550\n",
      "Epoch 5/30\n",
      "1000/1000 [==============================] - 1s 1ms/sample - loss: 0.6259 - accuracy: 0.5900 - val_loss: 0.6175 - val_accuracy: 0.5980\n",
      "Epoch 6/30\n",
      "1000/1000 [==============================] - 1s 1ms/sample - loss: 0.6010 - accuracy: 0.6240 - val_loss: 0.5911 - val_accuracy: 0.6060\n",
      "Epoch 7/30\n",
      "1000/1000 [==============================] - 1s 1ms/sample - loss: 0.5718 - accuracy: 0.6460 - val_loss: 0.5599 - val_accuracy: 0.6460\n",
      "Epoch 8/30\n",
      "1000/1000 [==============================] - 1s 1ms/sample - loss: 0.5367 - accuracy: 0.7770 - val_loss: 0.5208 - val_accuracy: 0.7810\n",
      "Epoch 9/30\n",
      "1000/1000 [==============================] - 1s 1ms/sample - loss: 0.4937 - accuracy: 0.8540 - val_loss: 0.4756 - val_accuracy: 0.9110\n",
      "Epoch 10/30\n",
      "1000/1000 [==============================] - 1s 1ms/sample - loss: 0.4468 - accuracy: 0.9680 - val_loss: 0.4260 - val_accuracy: 0.9850\n",
      "Epoch 11/30\n",
      "1000/1000 [==============================] - 1s 1ms/sample - loss: 0.3951 - accuracy: 0.9870 - val_loss: 0.3714 - val_accuracy: 0.9930\n",
      "Epoch 12/30\n",
      "1000/1000 [==============================] - 1s 1ms/sample - loss: 0.3395 - accuracy: 0.9940 - val_loss: 0.3148 - val_accuracy: 0.9970\n",
      "Epoch 13/30\n",
      "1000/1000 [==============================] - 1s 1ms/sample - loss: 0.2857 - accuracy: 0.9950 - val_loss: 0.2650 - val_accuracy: 1.0000\n",
      "Epoch 14/30\n",
      "1000/1000 [==============================] - 1s 1ms/sample - loss: 0.2428 - accuracy: 1.0000 - val_loss: 0.2278 - val_accuracy: 1.0000\n",
      "Epoch 15/30\n",
      "1000/1000 [==============================] - 1s 1ms/sample - loss: 0.2101 - accuracy: 1.0000 - val_loss: 0.1990 - val_accuracy: 1.0000\n",
      "Epoch 16/30\n",
      "1000/1000 [==============================] - 1s 1ms/sample - loss: 0.1848 - accuracy: 1.0000 - val_loss: 0.1765 - val_accuracy: 1.0000\n",
      "Epoch 17/30\n",
      "1000/1000 [==============================] - 1s 1ms/sample - loss: 0.1647 - accuracy: 1.0000 - val_loss: 0.1582 - val_accuracy: 1.0000\n",
      "Epoch 18/30\n",
      "1000/1000 [==============================] - 1s 1ms/sample - loss: 0.1487 - accuracy: 1.0000 - val_loss: 0.1438 - val_accuracy: 1.0000\n",
      "Epoch 19/30\n",
      "1000/1000 [==============================] - 1s 1ms/sample - loss: 0.1356 - accuracy: 1.0000 - val_loss: 0.1318 - val_accuracy: 1.0000\n",
      "Epoch 20/30\n",
      "1000/1000 [==============================] - 1s 1ms/sample - loss: 0.1247 - accuracy: 1.0000 - val_loss: 0.1218 - val_accuracy: 1.0000\n",
      "Epoch 21/30\n",
      "1000/1000 [==============================] - 1s 1ms/sample - loss: 0.1156 - accuracy: 1.0000 - val_loss: 0.1131 - val_accuracy: 1.0000\n",
      "Epoch 22/30\n",
      "1000/1000 [==============================] - 1s 1ms/sample - loss: 0.1076 - accuracy: 1.0000 - val_loss: 0.1055 - val_accuracy: 1.0000\n",
      "Epoch 23/30\n",
      "1000/1000 [==============================] - 1s 1ms/sample - loss: 0.1006 - accuracy: 1.0000 - val_loss: 0.0988 - val_accuracy: 1.0000\n",
      "Epoch 24/30\n",
      "1000/1000 [==============================] - 1s 1ms/sample - loss: 0.0944 - accuracy: 1.0000 - val_loss: 0.0930 - val_accuracy: 1.0000\n",
      "Epoch 25/30\n",
      "1000/1000 [==============================] - 1s 1ms/sample - loss: 0.0890 - accuracy: 1.0000 - val_loss: 0.0880 - val_accuracy: 1.0000\n",
      "Epoch 26/30\n",
      "1000/1000 [==============================] - 1s 1ms/sample - loss: 0.0843 - accuracy: 1.0000 - val_loss: 0.0836 - val_accuracy: 1.0000\n",
      "Epoch 27/30\n",
      "1000/1000 [==============================] - 1s 1ms/sample - loss: 0.0802 - accuracy: 1.0000 - val_loss: 0.0796 - val_accuracy: 1.0000\n",
      "Epoch 28/30\n",
      "1000/1000 [==============================] - 2s 2ms/sample - loss: 0.0765 - accuracy: 1.0000 - val_loss: 0.0760 - val_accuracy: 1.0000\n",
      "Epoch 29/30\n",
      "1000/1000 [==============================] - 1s 1ms/sample - loss: 0.0731 - accuracy: 1.0000 - val_loss: 0.0727 - val_accuracy: 1.0000\n",
      "Epoch 30/30\n",
      "1000/1000 [==============================] - 1s 1ms/sample - loss: 0.0700 - accuracy: 1.0000 - val_loss: 0.0697 - val_accuracy: 1.0000\n"
     ]
    }
   ],
   "source": [
    "history = model.fit(train_data, train_label,\n",
    "          epochs=30, \n",
    "          batch_size=32,\n",
    "          validation_data=(val_data, val_label))"
   ]
  },
  {
   "cell_type": "code",
   "execution_count": 9,
   "metadata": {},
   "outputs": [],
   "source": [
    "#history.history"
   ]
  },
  {
   "cell_type": "code",
   "execution_count": 10,
   "metadata": {},
   "outputs": [
    {
     "data": {
      "text/plain": [
       "[<matplotlib.lines.Line2D at 0x1f8755886a0>]"
      ]
     },
     "execution_count": 10,
     "metadata": {},
     "output_type": "execute_result"
    },
    {
     "data": {
      "image/png": "[encoded data removed]",
      "text/plain": [
       "<Figure size 432x288 with 1 Axes>"
      ]
     },
     "metadata": {
      "needs_background": "light"
     },
     "output_type": "display_data"
    }
   ],
   "source": [
    "plt.plot(history.history['loss'])\n",
    "plt.plot(history.history['val_loss'])"
   ]
  },
  {
   "cell_type": "code",
   "execution_count": 11,
   "metadata": {},
   "outputs": [
    {
     "data": {
      "text/plain": [
       "[<matplotlib.lines.Line2D at 0x1f878ccf7b8>]"
      ]
     },
     "execution_count": 11,
     "metadata": {},
     "output_type": "execute_result"
    },
    {
     "data": {
      "image/png": "[encoded data removed]",
      "text/plain": [
       "<Figure size 432x288 with 1 Axes>"
      ]
     },
     "metadata": {
      "needs_background": "light"
     },
     "output_type": "display_data"
    }
   ],
   "source": [
    "plt.plot(history.history['accuracy'])\n",
    "plt.plot(history.history['val_accuracy'])"
   ]
  },
  {
   "cell_type": "markdown",
   "metadata": {},
   "source": [
    "c) \n",
    "Visualize the learned kernel, you might want to use model.get_weights(). Does the learned kernel makes sense?"
   ]
  },
  {
   "cell_type": "code",
   "execution_count": 12,
   "metadata": {},
   "outputs": [
    {
     "data": {
      "text/plain": [
       "((5, 5, 1, 1), (1,), (1, 2), (2,))"
      ]
     },
     "execution_count": 12,
     "metadata": {},
     "output_type": "execute_result"
    }
   ],
   "source": [
    "model.get_weights()[0].shape, model.get_weights()[1].shape, model.get_weights()[2].shape, model.get_weights()[3].shape"
   ]
  },
  {
   "cell_type": "code",
   "execution_count": 13,
   "metadata": {},
   "outputs": [
    {
     "name": "stdout",
     "output_type": "stream",
     "text": [
      "[[-0.11228489 -0.22530426 -0.13592012  0.5153285  -0.22393413]\n",
      " [-0.2611877  -0.04354211 -0.16705906  0.6158693  -0.32506898]\n",
      " [-0.12301499  0.17939147 -0.5046246   0.73834574 -0.4484136 ]\n",
      " [-0.24406712  0.29110447 -0.40991813  0.6214224  -0.33029225]\n",
      " [ 0.00477332  0.20169666 -0.46056163  0.54539007 -0.25474578]] \n",
      "\n",
      " [-0.5820039] \n",
      "\n",
      " [[ 1.8087224 -0.5161645]] \n",
      "\n",
      " [-1.0462229  1.046223 ]\n"
     ]
    }
   ],
   "source": [
    "print(np.reshape(model.get_weights()[0], (5,5)),'\\n\\n', \n",
    "      model.get_weights()[1],'\\n\\n', \n",
    "      model.get_weights()[2],'\\n\\n', \n",
    "      model.get_weights()[3])"
   ]
  },
  {
   "cell_type": "code",
   "execution_count": 14,
   "metadata": {},
   "outputs": [
    {
     "data": {
      "text/plain": [
       "<matplotlib.collections.PolyCollection at 0x1f878d5e278>"
      ]
     },
     "execution_count": 14,
     "metadata": {},
     "output_type": "execute_result"
    },
    {
     "data": {
      "image/png": "[encoded data removed]",
      "text/plain": [
       "<Figure size 432x288 with 1 Axes>"
      ]
     },
     "metadata": {
      "needs_background": "light"
     },
     "output_type": "display_data"
    }
   ],
   "source": [
    "plt.pcolor(np.reshape(model.get_weights()[0], (5,5)), cmap='plasma')"
   ]
  }
 ],
 "metadata": {
  "kernelspec": {
   "display_name": "Python 3",
   "language": "python",
   "name": "python3"
  },
  "language_info": {
   "codemirror_mode": {
    "name": "ipython",
    "version": 3
   },
   "file_extension": ".py",
   "mimetype": "text/x-python",
   "name": "python",
   "nbconvert_exporter": "python",
   "pygments_lexer": "ipython3",
   "version": "3.7.3"
  }
 },
 "nbformat": 4,
 "nbformat_minor": 2
}
