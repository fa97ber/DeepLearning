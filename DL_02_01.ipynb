{
 "cells": [
  {
   "cell_type": "code",
   "execution_count": 94,
   "metadata": {},
   "outputs": [
    {
     "data": {
      "text/plain": [
       "'2.0.0'"
      ]
     },
     "execution_count": 94,
     "metadata": {},
     "output_type": "execute_result"
    }
   ],
   "source": [
    "import numpy as np\n",
    "import matplotlib.image as mpimg\n",
    "import matplotlib.pyplot as plt\n",
    "\n",
    "import tensorflow as tf\n",
    "import tensorflow.keras as keras\n",
    "from tensorflow.keras.models import Sequential\n",
    "from tensorflow.keras.layers import Dense, Convolution2D, MaxPooling2D, Flatten , Activation, Dropout\n",
    "from tensorflow.keras.optimizers import SGD\n",
    "tf.__version__"
   ]
  },
  {
   "cell_type": "code",
   "execution_count": 191,
   "metadata": {},
   "outputs": [],
   "source": [
    "def create_images(cnt):\n",
    "    images = []\n",
    "    for _ in range(cnt):\n",
    "        image = np.zeros((50,50))\n",
    "        line_count = 10\n",
    "        line_length = 10\n",
    "        x = 0\n",
    "        y = 1\n",
    "        for line_type in np.random.randint(2, size=line_count):\n",
    "            line = np.zeros((line_length,2))\n",
    "            line[0] = np.random.randint(50, size=2)\n",
    "            index = 1\n",
    "            bordered = False\n",
    "            if line_type == x:\n",
    "                while index < line_length:\n",
    "                    point = np.copy(line[index - 1])\n",
    "                    if point[x] + 1 < 50 and not bordered:\n",
    "                        point[x] += 1\n",
    "                        line[index] = point\n",
    "                    elif point[x] + 1 >= 50 or bordered:\n",
    "                        bordered = True\n",
    "                        if line[0][x] < point[x]:\n",
    "                            point = np.copy(line[0])\n",
    "                        point[x] -= 1     \n",
    "                        line[index] = point\n",
    "                    index += 1\n",
    "            elif line_type == y:\n",
    "                while index < line_length:\n",
    "                    point = np.copy(line[index - 1])\n",
    "                    if point[y] + 1 < 50 and not bordered:\n",
    "                        point[y] += 1\n",
    "                        line[index] = point\n",
    "                    elif point[y] + 1 >= 50 or bordered:\n",
    "                        bordered = True\n",
    "                        if line[0][y] < point[y]:\n",
    "                            point = np.copy(line[0])\n",
    "                        point[y] -= 1     \n",
    "                        line[index] = point\n",
    "                    index += 1\n",
    "            #print(line)\n",
    "            for point in line:\n",
    "                p = point.astype(int)\n",
    "                image[p[0]][p[1]] = 1\n",
    "        images.append(image.astype(int))\n",
    "    return images"
   ]
  },
  {
   "cell_type": "code",
   "execution_count": 192,
   "metadata": {},
   "outputs": [],
   "source": [
    "img = create_images(1)\n",
    "#img"
   ]
  },
  {
   "cell_type": "code",
   "execution_count": 193,
   "metadata": {},
   "outputs": [
    {
     "data": {
      "image/png": "[encoded data removed]",
      "text/plain": [
       "<Figure size 432x288 with 1 Axes>"
      ]
     },
     "metadata": {
      "needs_background": "light"
     },
     "output_type": "display_data"
    }
   ],
   "source": [
    "imgplot = plt.imshow(img[0], 'gray')\n",
    "plt.show()"
   ]
  },
  {
   "cell_type": "code",
   "execution_count": null,
   "metadata": {},
   "outputs": [],
   "source": []
  },
  {
   "cell_type": "code",
   "execution_count": null,
   "metadata": {},
   "outputs": [],
   "source": []
  },
  {
   "cell_type": "code",
   "execution_count": null,
   "metadata": {},
   "outputs": [],
   "source": []
  }
 ],
 "metadata": {
  "kernelspec": {
   "display_name": "Python 3",
   "language": "python",
   "name": "python3"
  },
  "language_info": {
   "codemirror_mode": {
    "name": "ipython",
    "version": 3
   },
   "file_extension": ".py",
   "mimetype": "text/x-python",
   "name": "python",
   "nbconvert_exporter": "python",
   "pygments_lexer": "ipython3",
   "version": "3.7.3"
  }
 },
 "nbformat": 4,
 "nbformat_minor": 2
}
