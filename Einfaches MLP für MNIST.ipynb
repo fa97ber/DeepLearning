{
 "cells": [
  {
   "cell_type": "code",
   "execution_count": 1,
   "metadata": {},
   "outputs": [
    {
     "data": {
      "text/plain": [
       "<Figure size 720x540 with 0 Axes>"
      ]
     },
     "metadata": {},
     "output_type": "display_data"
    }
   ],
   "source": [
    "%matplotlib inline\n",
    "import matplotlib.pyplot as plt\n",
    "import numpy as np\n",
    "import load_mnist\n",
    "\n",
    "# Some nice default configuration for plots\n",
    "plt.rcParams['figure.figsize'] = 10, 7.5\n",
    "plt.rcParams['axes.grid'] = True\n",
    "plt.gray();"
   ]
  },
  {
   "cell_type": "code",
   "execution_count": 2,
   "metadata": {},
   "outputs": [
    {
     "name": "stdout",
     "output_type": "stream",
     "text": [
      "MNIST, Classes:     10\n",
      "Training Images:    (50000, 784)\n",
      "Validation Images:  (10000, 784)\n",
      "Test Images:        (10000, 784)\n"
     ]
    }
   ],
   "source": [
    "# read MNIST data set and scale it\n",
    "X0,y0,Xv,yv,X1,y1 = load_mnist.read([0,1,2,3,4,5,6,7,8,9], path=\"\")\n",
    "x0 = (1.0/255.0)*X0.astype('float64')\n",
    "x1 = (1.0/255.0)*X1.astype('float64')\n",
    "x2 = (1.0/255.0)*Xv.astype('float64')\n",
    "y0 = y0.astype('float64')\n",
    "y1 = y1.astype('float64')\n",
    "y2 = yv.astype('float64')"
   ]
  },
  {
   "cell_type": "code",
   "execution_count": 3,
   "metadata": {},
   "outputs": [
    {
     "data": {
      "image/png": "[encoded data removed]",
      "text/plain": [
       "<Figure size 432x288 with 5 Axes>"
      ]
     },
     "metadata": {},
     "output_type": "display_data"
    }
   ],
   "source": [
    "def plot_gallery(data, labels, shape, interpolation='nearest'):\n",
    "    for i in range(data.shape[0]):\n",
    "        plt.subplot(1, data.shape[0], (i + 1))\n",
    "        plt.imshow(data[i].reshape(shape), interpolation=interpolation)\n",
    "        plt.title(labels[i])\n",
    "        plt.xticks(()), plt.yticks(())\n",
    "\n",
    "subsample = np.random.permutation(x0.shape[0])[:5]\n",
    "images = x0[subsample]\n",
    "labels = ['True class: %d' % np.argmax(l) for l in y0[subsample]]\n",
    "plot_gallery(images, labels, shape=(28, 28))"
   ]
  },
  {
   "cell_type": "markdown",
   "metadata": {},
   "source": [
    "Globale Arrays und Variablen des Netzwerkes:"
   ]
  },
  {
   "cell_type": "code",
   "execution_count": 4,
   "metadata": {},
   "outputs": [
    {
     "name": "stdout",
     "output_type": "stream",
     "text": [
      "(2, 2) (2, 2) (1, 2)\n"
     ]
    }
   ],
   "source": [
    "# Netzwerkparameter\n",
    "mbs = 10                     # Größe der Minibatches\n",
    "eta = 0.03 #3.0                    # Lernrate\n",
    "no_hidden = 2 #36               # Anzahl versteckter Neuronen\n",
    "epochs = 150 #15                  # Anzahl Epochen\n",
    "sizes = [2, no_hidden, no_hidden, 1] #[784, no_hidden, 10] # dreischichtiges MPL mit 784 Eingangs-, no_hidden versteckten, 10 Ausgangsneuronen\n",
    "num_layers = len(sizes)      # Anzahl Schichten\n",
    "\n",
    "# Arrays für Gewichte und Schwellwerte (initialisiert mit Gaußschem Rauschen)\n",
    "biases = [np.random.randn(y, 1) for y in sizes[1:]] # Schwellwerte\n",
    "weights = [np.random.randn(y, x) for x, y in zip(sizes[:-1], sizes[1:])] #Gewichte\n",
    "print(weights[0].shape, weights[1].shape, weights[2].shape)"
   ]
  },
  {
   "cell_type": "markdown",
   "metadata": {},
   "source": [
    "Einige Hilfsfunktionen:"
   ]
  },
  {
   "cell_type": "code",
   "execution_count": 5,
   "metadata": {},
   "outputs": [],
   "source": [
    "# Sigmoid (vektorisiert)\n",
    "def sigmoid(z):\n",
    "    \"\"\"The sigmoid function.\"\"\"\n",
    "    return 1.0/(1.0+np.exp(-z))\n",
    "\n",
    "# Ableitung des Sigmoids\n",
    "def sigmoid_prime(z):\n",
    "    \"\"\"Derivative of the sigmoid function.\"\"\"\n",
    "    return sigmoid(z)*(1-sigmoid(z))\n",
    "\n",
    "# Ableitung der MSE-Kostenfunktion\n",
    "def cost_derivative(output_activations, y):\n",
    "    \"\"\"Return the vector of partial derivatives \\partial C_x /\n",
    "    \\partial a for the output activations.\"\"\"\n",
    "    return (output_activations-y)"
   ]
  },
  {
   "cell_type": "markdown",
   "metadata": {},
   "source": [
    "Vorwärtslauf durch das Netzwerk für Testläufe (Prädiktion):"
   ]
  },
  {
   "cell_type": "code",
   "execution_count": 6,
   "metadata": {},
   "outputs": [],
   "source": [
    "def feedforward(a):\n",
    "    \"\"\"Return the output of the network if ``a`` is input.\"\"\"\n",
    "    for b, w in zip(biases, weights):\n",
    "        a = sigmoid(np.dot(w, a)+b)\n",
    "    return a"
   ]
  },
  {
   "cell_type": "markdown",
   "metadata": {},
   "source": [
    "Backpropagation-Algorithmus für ein Paar aus Input x und Label y:"
   ]
  },
  {
   "cell_type": "code",
   "execution_count": 7,
   "metadata": {},
   "outputs": [],
   "source": [
    "def backprop(x, y):\n",
    "    \"\"\"Return a tuple ``(nabla_b, nabla_w)`` representing the\n",
    "    gradient for the cost function C_x.  ``nabla_b`` and\n",
    "    ``nabla_w`` are layer-by-layer lists of numpy arrays, similar\n",
    "    to ``self.biases`` and ``self.weights``.\"\"\"\n",
    "    \n",
    "    # Initialisiere Updates für Schwellwerte und Gewichte\n",
    "    nabla_b = [np.zeros(b.shape) for b in biases]\n",
    "    nabla_w = [np.zeros(w.shape) for w in weights]\n",
    "    \n",
    "    # Vorwärtslauf\n",
    "    activation = x # Initialisierung a^1 = x\n",
    "    activations = [x] # list to store all the activations, layer by layer\n",
    "    zs = [] # list to store all the z vectors, layer by layer\n",
    "    for b, w in zip(biases, weights):\n",
    "        z = np.dot(w, activation) + b\n",
    "        zs.append(z)\n",
    "        activation = sigmoid(z)\n",
    "        activations.append(activation)\n",
    "    \n",
    "    # Rückwärtslauf\n",
    "    delta = cost_derivative(activations[-1], y) * sigmoid_prime(zs[-1]) # Fehler am Output\n",
    "    nabla_b[-1] = delta # Update Schwellwert in der Ausgangsschicht\n",
    "    nabla_w[-1] = np.dot(delta, activations[-2].transpose()) # Update Gewichte in der Ausgangsschicht\n",
    "    for l in range(2, num_layers): # Backpropagation\n",
    "        z = zs[-l] # gewichteter Input\n",
    "        sp = sigmoid_prime(z) # Ableitung der Aktivierungsfunktion\n",
    "        delta = np.dot(weights[-l+1].transpose(), delta) * sp # Fehler in Schicht l\n",
    "        nabla_b[-l] = delta # Update Schwellwert \n",
    "        nabla_w[-l] = np.dot(delta, activations[-l-1].transpose()) # Update Gewichte\n",
    "\n",
    "    return (nabla_b, nabla_w)"
   ]
  },
  {
   "cell_type": "markdown",
   "metadata": {},
   "source": [
    "Gemitteltes Update über einen Minibatch:"
   ]
  },
  {
   "cell_type": "code",
   "execution_count": 8,
   "metadata": {},
   "outputs": [],
   "source": [
    "def update_mini_batch(xmb, ymb, eta):\n",
    "    \"\"\"Update the network's weights and biases by applying\n",
    "    gradient descent using backpropagation to a single mini batch.\n",
    "    The ``mini_batch`` is a list of tuples ``(x, y)``, and ``eta``\n",
    "    is the learning rate.\"\"\"\n",
    "    global weights\n",
    "    global biases\n",
    "\n",
    "    # Initialisiere Updates für Schwellwerte und Gewichte\n",
    "    nabla_b = [np.zeros(b.shape) for b in biases]\n",
    "    nabla_w = [np.zeros(w.shape) for w in weights]\n",
    "    \n",
    "    # Gehe durch alle Beispielpaare im Minibatch\n",
    "    for i in range(xmb.shape[0]):\n",
    "        x = np.reshape(xmb[i,:],(xmb.shape[1],1)).copy()\n",
    "        if len(ymb.shape) == 2:\n",
    "            y = np.reshape(ymb[i,:],(ymb.shape[1],1)).copy()\n",
    "        else:\n",
    "            y = ymb[i].copy()\n",
    "        \n",
    "        # Berechne Updates für alle Schichten über Backprop\n",
    "        delta_nabla_b, delta_nabla_w = backprop(x, y)\n",
    "        \n",
    "        # Addiere einzelne Updates auf\n",
    "        nabla_b = [nb+dnb for nb, dnb in zip(nabla_b, delta_nabla_b)]\n",
    "        nabla_w = [nw+dnw for nw, dnw in zip(nabla_w, delta_nabla_w)]\n",
    "    \n",
    "    # Berechne neue Gewichte\n",
    "    weights = [w-(eta/xmb.shape[0])*nw\n",
    "                    for w, nw in zip(weights, nabla_w)]\n",
    "    biases = [b-(eta/xmb.shape[0])*nb\n",
    "                   for b, nb in zip(biases, nabla_b)]\n",
    "    \n",
    "    return (weights, biases)"
   ]
  },
  {
   "cell_type": "markdown",
   "metadata": {},
   "source": [
    "Hilfsfunktion zur Evaluation des Netzwerkes auf den Testdaten:"
   ]
  },
  {
   "cell_type": "code",
   "execution_count": 49,
   "metadata": {},
   "outputs": [],
   "source": [
    "def evaluate(x2, y2):\n",
    "    \"\"\"Return the number of test inputs for which the neural\n",
    "    network outputs the correct result. Note that the neural\n",
    "    network's output is assumed to be the index of whichever\n",
    "    neuron in the final layer has the highest activation.\"\"\"\n",
    "    \n",
    "    correct = 0 # Anzahl korrekt klassifizierter Testbeispiele\n",
    "    MSE = 0\n",
    "    \n",
    "    # Gehe den Testdatensatz durch\n",
    "    for i in range(0, x2.shape[0]):\n",
    "        x = np.reshape(x2[i,:],(x2.shape[1],1)).copy()\n",
    "        if len(y2.shape) == 2:\n",
    "            y = np.reshape(y2[i,:],(y2.shape[1],1)).copy()\n",
    "        else:\n",
    "            y = y2[i].copy()\n",
    "        \n",
    "        # Vorwärtslauf\n",
    "        ypred = feedforward(x)[0][0]\n",
    "        \n",
    "        # Label ist in one-hot-Codierung: korrekte Klasse ist 1, alle anderen 0\n",
    "        #c = np.argmax(y)\n",
    "        #Abänderung für Spielzeugdatensatz, kein one-hot, nur noch 1 oder 0\n",
    "        c = y\n",
    "        \n",
    "        # Index des maximal aktivierten Outputs ist die Entscheidung des Netzwerk\n",
    "        #cpred = np.argmax(ypred)\n",
    "        #Abänderung für Spielzeugdatensatz, <0.5 steht für 0, >0.5 für 1\n",
    "        cpred = np.round(ypred)\n",
    "        #print(y, ypred, cpred)\n",
    "        MSE += (y - ypred)**2\n",
    "        \n",
    "        # Falls beide übereinstimmen, addiere zur Gesamtzahl\n",
    "        if c == cpred:\n",
    "            correct += 1\n",
    "        \n",
    "    return correct, MSE/x2.shape[0]"
   ]
  },
  {
   "cell_type": "markdown",
   "metadata": {},
   "source": [
    "Stochastischer Gradientenabstieg:"
   ]
  },
  {
   "cell_type": "code",
   "execution_count": 10,
   "metadata": {},
   "outputs": [],
   "source": [
    "def SGD(x0, y0, epochs, mini_batch_size, eta, x2, y2):\n",
    "\n",
    "    n_test = x2.shape[0] # Anzahl Testdaten\n",
    "    n = x0.shape[0]      # Anzahl Trainingsdaten\n",
    "    \n",
    "    # gehe durch alle Epochen\n",
    "    acc_val = np.zeros(epochs)\n",
    "    MSE = np.zeros(epochs)\n",
    "    for j in range(epochs):\n",
    "        \n",
    "        # Bringe die Trainingsdaten in eine zufällige Reihenfolge für jede Epoche\n",
    "        p = np.random.permutation(n) # Zufällige Permutation aller Indizes von 0 .. n-1\n",
    "        x0 = x0[p,:]\n",
    "        y0 = y0[p]\n",
    "        \n",
    "        # Zerlege den permutierten Datensatz in Minibatches \n",
    "        for k in range(0, n, mini_batch_size):\n",
    "            xmb = x0[k:k+mini_batch_size,:]\n",
    "            if len(y0.shape) == 2:\n",
    "                ymb = y0[k:k+mini_batch_size,:]\n",
    "            else:\n",
    "                ymb = y0[k:k+mini_batch_size]\n",
    "            update_mini_batch(xmb, ymb, eta)\n",
    "        \n",
    "        # Gib Performance aus\n",
    "        acc_val[j],MSE[j] = evaluate(x2, y2)\n",
    "        print(\"Epoch {0}: {1} / {2}\".format(j, acc_val[j], n_test))\n",
    "    \n",
    "    return acc_val,MSE"
   ]
  },
  {
   "cell_type": "markdown",
   "metadata": {},
   "source": [
    "Training:"
   ]
  },
  {
   "cell_type": "code",
   "execution_count": 11,
   "metadata": {},
   "outputs": [],
   "source": [
    "#acc_val = SGD(x0, y0, epochs, mbs, eta, x2, y2)"
   ]
  },
  {
   "cell_type": "markdown",
   "metadata": {},
   "source": [
    "<h3> Aufgabe 1 Spielzeugdatensatz</h3>"
   ]
  },
  {
   "cell_type": "code",
   "execution_count": 56,
   "metadata": {},
   "outputs": [],
   "source": [
    "design = np.random.uniform(-6, 6, (200,2))\n",
    "label = np.zeros(200)\n",
    "for i in range(len(design)):\n",
    "    #print(design[i])\n",
    "    if design[i][0] >= 0 and design[i][1] >= 0:\n",
    "        label[i] = 1\n",
    "    elif design[i][0] <= 0 and design[i][1] <= 0:\n",
    "        label[i] = 1"
   ]
  },
  {
   "cell_type": "code",
   "execution_count": 57,
   "metadata": {},
   "outputs": [],
   "source": [
    "test = np.random.uniform(-6, 6, (200,2))\n",
    "test_label = np.zeros(200)\n",
    "for i in range(len(test)):\n",
    "    if test[i][0] >= 0 and test[i][1] >= 0:\n",
    "        test_label[i] = 1\n",
    "    elif test[i][0] <= 0 and test[i][1] <= 0:\n",
    "        test_label[i] = 1"
   ]
  },
  {
   "cell_type": "code",
   "execution_count": 58,
   "metadata": {},
   "outputs": [
    {
     "data": {
      "image/png": "[encoded data removed]",
      "text/plain": [
       "<Figure size 432x288 with 1 Axes>"
      ]
     },
     "metadata": {
      "needs_background": "light"
     },
     "output_type": "display_data"
    }
   ],
   "source": [
    "plt.scatter(design[:,0], design[:,1], color=np.where(label == 1, 'b', 'r'));"
   ]
  },
  {
   "cell_type": "code",
   "execution_count": 59,
   "metadata": {},
   "outputs": [
    {
     "data": {
      "image/png": "[encoded data removed]",
      "text/plain": [
       "<Figure size 432x288 with 1 Axes>"
      ]
     },
     "metadata": {
      "needs_background": "light"
     },
     "output_type": "display_data"
    }
   ],
   "source": [
    "plt.scatter(test[:,0], test[:,1], color=np.where(test_label == 1, 'b', 'r'));"
   ]
  },
  {
   "cell_type": "markdown",
   "metadata": {},
   "source": [
    "4. Das in der Vorlesung dargestellte Experiment operiert nicht direkt auf den Inputdaten,\n",
    "sondern auf 2 Merkmalen, die mithilfe zweier Neuronen mit fixem Gewichtsvektor\n",
    "berechnet werden: ein Neuron teilt die Inputebene waagrecht entlang der x-Achse, das\n",
    "andere senkrecht entlang der y-Achse. Wie muss der Gewichtsvektor für das jeweilige\n",
    "Neuron aussehen?"
   ]
  },
  {
   "cell_type": "code",
   "execution_count": 60,
   "metadata": {},
   "outputs": [
    {
     "name": "stdout",
     "output_type": "stream",
     "text": [
      "[0 1]\n"
     ]
    }
   ],
   "source": [
    "w_w = np.array([0, 1])\n",
    "w_s = np.array([1, 0])\n",
    "print(w_w)"
   ]
  },
  {
   "cell_type": "markdown",
   "metadata": {},
   "source": [
    "5. Berechnen Sie die Entscheidungsfunktion beider Neuron mit der im Beispielcode\n",
    "angegebenen sigmoiden Aktivierungsfunktion auf einem 100 × 100-Gitter innerhalb\n",
    "des Gebietes [−6, 6] × [−6, 6] und stellen Sie diese zur Überprüfung als Farbbild dar."
   ]
  },
  {
   "cell_type": "code",
   "execution_count": 61,
   "metadata": {},
   "outputs": [
    {
     "data": {
      "image/png": "[encoded data removed]",
      "text/plain": [
       "<Figure size 432x288 with 1 Axes>"
      ]
     },
     "metadata": {
      "needs_background": "light"
     },
     "output_type": "display_data"
    }
   ],
   "source": [
    "colour_w = np.zeros((100,100))\n",
    "colour_s = np.zeros((100,100))\n",
    "#plt.plot(sigmoid(design * w_w))\n",
    "grid_x = np.zeros((100,100))\n",
    "grid_y = np.zeros((100,100))\n",
    "grid = np.zeros((10000, 2))\n",
    "for i in range(colour_w.shape[0]):\n",
    "    for j in range(colour_w.shape[1]):\n",
    "        x = j / 100 * 12 - 6\n",
    "        y = i / 100 * 12 - 6\n",
    "        \n",
    "        p = np.array([x,y])\n",
    "        s_w = sigmoid(p.dot(w_w))\n",
    "        s_s = sigmoid(p.dot(w_s))\n",
    "        \n",
    "        grid_x[i,j] = x\n",
    "        grid_y[i,j] = y\n",
    "        colour_w[i,j] = s_w\n",
    "        colour_s[i,j] = s_s\n",
    "        \n",
    "        grid[i*colour_w.shape[1] + j, 0] = x\n",
    "        grid[i*colour_w.shape[1] + j, 1] = y\n",
    "\n",
    "    \n",
    "plt.pcolor(grid_x, grid_y, colour_w, alpha=.8, cmap='plasma');"
   ]
  },
  {
   "cell_type": "code",
   "execution_count": 62,
   "metadata": {},
   "outputs": [
    {
     "data": {
      "image/png": "[encoded data removed]",
      "text/plain": [
       "<Figure size 432x288 with 1 Axes>"
      ]
     },
     "metadata": {
      "needs_background": "light"
     },
     "output_type": "display_data"
    }
   ],
   "source": [
    "plt.pcolor(grid_x, grid_y, colour_s, alpha=.8, cmap='plasma');"
   ]
  },
  {
   "cell_type": "markdown",
   "metadata": {},
   "source": [
    "6. Da die Eingangsneuronen nicht mittrainiert werden, können wir deren Output schon\n",
    "im Vorfeld berechnen. Erzeugen Sie dazu neue Designmatritzen für den Trainingsund Testdatensatz, so dass die erste Spalte den Output des ersten Neurons und die\n",
    "zweite Spalte den Output des zweiten Neurons enthält. Erzeugen Sie auch eine entsprechende Designmatrix für Ihr 100 × 100-Gitter, das wir später zu Darstellungszwecken\n",
    "brauchen werden. Wichtig: arbeiten Sie im Folgenden nur mit diesen transformierten\n",
    "Designmatritzen, um korrekte Ergebnisse zu erhalten!\n"
   ]
  },
  {
   "cell_type": "code",
   "execution_count": 63,
   "metadata": {},
   "outputs": [],
   "source": [
    "f_design = np.zeros(design.shape)\n",
    "f_test = np.zeros(test.shape)\n",
    "f_grid = np.zeros(grid.shape)\n",
    "for i in range(design.shape[0]):\n",
    "    p = design[i]\n",
    "    s_w = sigmoid(p.dot(w_w))\n",
    "    s_s = sigmoid(p.dot(w_s))\n",
    "    f_design[i,0] = s_w\n",
    "    f_design[i,1] = s_s\n",
    "    \n",
    "    p = test[i]\n",
    "    s_w = sigmoid(p.dot(w_w))\n",
    "    s_s = sigmoid(p.dot(w_s))\n",
    "    f_test[i,0] = s_w\n",
    "    f_test[i,1] = s_s\n",
    "    \n",
    "for i,p in enumerate(grid):\n",
    "    s_w = sigmoid(p.dot(w_w))\n",
    "    s_s = sigmoid(p.dot(w_s))\n",
    "    f_grid[i,0] = s_w\n",
    "    f_grid[i,1] = s_s"
   ]
  },
  {
   "cell_type": "code",
   "execution_count": 64,
   "metadata": {},
   "outputs": [
    {
     "name": "stdout",
     "output_type": "stream",
     "text": [
      "Epoch 0: 98.0 / 200\n",
      "Epoch 1: 98.0 / 200\n",
      "Epoch 2: 98.0 / 200\n",
      "Epoch 3: 98.0 / 200\n",
      "Epoch 4: 98.0 / 200\n",
      "Epoch 5: 98.0 / 200\n",
      "Epoch 6: 98.0 / 200\n",
      "Epoch 7: 98.0 / 200\n",
      "Epoch 8: 70.0 / 200\n",
      "Epoch 9: 98.0 / 200\n",
      "Epoch 10: 99.0 / 200\n",
      "Epoch 11: 95.0 / 200\n",
      "Epoch 12: 102.0 / 200\n",
      "Epoch 13: 102.0 / 200\n",
      "Epoch 14: 102.0 / 200\n",
      "Epoch 15: 102.0 / 200\n",
      "Epoch 16: 102.0 / 200\n",
      "Epoch 17: 102.0 / 200\n",
      "Epoch 18: 102.0 / 200\n",
      "Epoch 19: 102.0 / 200\n",
      "Epoch 20: 102.0 / 200\n",
      "Epoch 21: 102.0 / 200\n",
      "Epoch 22: 102.0 / 200\n",
      "Epoch 23: 102.0 / 200\n",
      "Epoch 24: 102.0 / 200\n",
      "Epoch 25: 102.0 / 200\n",
      "Epoch 26: 102.0 / 200\n",
      "Epoch 27: 102.0 / 200\n",
      "Epoch 28: 102.0 / 200\n",
      "Epoch 29: 102.0 / 200\n",
      "Epoch 30: 102.0 / 200\n",
      "Epoch 31: 102.0 / 200\n",
      "Epoch 32: 102.0 / 200\n",
      "Epoch 33: 102.0 / 200\n",
      "Epoch 34: 102.0 / 200\n",
      "Epoch 35: 102.0 / 200\n",
      "Epoch 36: 102.0 / 200\n",
      "Epoch 37: 102.0 / 200\n",
      "Epoch 38: 102.0 / 200\n",
      "Epoch 39: 102.0 / 200\n",
      "Epoch 40: 102.0 / 200\n",
      "Epoch 41: 102.0 / 200\n",
      "Epoch 42: 102.0 / 200\n",
      "Epoch 43: 102.0 / 200\n",
      "Epoch 44: 102.0 / 200\n",
      "Epoch 45: 102.0 / 200\n",
      "Epoch 46: 102.0 / 200\n",
      "Epoch 47: 102.0 / 200\n",
      "Epoch 48: 102.0 / 200\n",
      "Epoch 49: 102.0 / 200\n",
      "Epoch 50: 102.0 / 200\n",
      "Epoch 51: 102.0 / 200\n",
      "Epoch 52: 102.0 / 200\n",
      "Epoch 53: 102.0 / 200\n",
      "Epoch 54: 102.0 / 200\n",
      "Epoch 55: 102.0 / 200\n",
      "Epoch 56: 102.0 / 200\n",
      "Epoch 57: 102.0 / 200\n",
      "Epoch 58: 102.0 / 200\n",
      "Epoch 59: 102.0 / 200\n",
      "Epoch 60: 102.0 / 200\n",
      "Epoch 61: 102.0 / 200\n",
      "Epoch 62: 102.0 / 200\n",
      "Epoch 63: 102.0 / 200\n",
      "Epoch 64: 102.0 / 200\n",
      "Epoch 65: 102.0 / 200\n",
      "Epoch 66: 102.0 / 200\n",
      "Epoch 67: 102.0 / 200\n",
      "Epoch 68: 102.0 / 200\n",
      "Epoch 69: 102.0 / 200\n",
      "Epoch 70: 102.0 / 200\n",
      "Epoch 71: 102.0 / 200\n",
      "Epoch 72: 102.0 / 200\n",
      "Epoch 73: 102.0 / 200\n",
      "Epoch 74: 102.0 / 200\n",
      "Epoch 75: 102.0 / 200\n",
      "Epoch 76: 102.0 / 200\n",
      "Epoch 77: 102.0 / 200\n",
      "Epoch 78: 102.0 / 200\n",
      "Epoch 79: 102.0 / 200\n",
      "Epoch 80: 102.0 / 200\n",
      "Epoch 81: 102.0 / 200\n",
      "Epoch 82: 102.0 / 200\n",
      "Epoch 83: 102.0 / 200\n",
      "Epoch 84: 102.0 / 200\n",
      "Epoch 85: 102.0 / 200\n",
      "Epoch 86: 102.0 / 200\n",
      "Epoch 87: 102.0 / 200\n",
      "Epoch 88: 102.0 / 200\n",
      "Epoch 89: 102.0 / 200\n",
      "Epoch 90: 102.0 / 200\n",
      "Epoch 91: 102.0 / 200\n",
      "Epoch 92: 102.0 / 200\n",
      "Epoch 93: 102.0 / 200\n",
      "Epoch 94: 102.0 / 200\n",
      "Epoch 95: 102.0 / 200\n",
      "Epoch 96: 102.0 / 200\n",
      "Epoch 97: 102.0 / 200\n",
      "Epoch 98: 102.0 / 200\n",
      "Epoch 99: 102.0 / 200\n",
      "Epoch 100: 102.0 / 200\n",
      "Epoch 101: 102.0 / 200\n",
      "Epoch 102: 102.0 / 200\n",
      "Epoch 103: 102.0 / 200\n",
      "Epoch 104: 102.0 / 200\n",
      "Epoch 105: 102.0 / 200\n",
      "Epoch 106: 102.0 / 200\n",
      "Epoch 107: 102.0 / 200\n",
      "Epoch 108: 102.0 / 200\n",
      "Epoch 109: 102.0 / 200\n",
      "Epoch 110: 102.0 / 200\n",
      "Epoch 111: 102.0 / 200\n",
      "Epoch 112: 102.0 / 200\n",
      "Epoch 113: 102.0 / 200\n",
      "Epoch 114: 102.0 / 200\n",
      "Epoch 115: 102.0 / 200\n",
      "Epoch 116: 102.0 / 200\n",
      "Epoch 117: 102.0 / 200\n",
      "Epoch 118: 102.0 / 200\n",
      "Epoch 119: 102.0 / 200\n",
      "Epoch 120: 102.0 / 200\n",
      "Epoch 121: 102.0 / 200\n",
      "Epoch 122: 102.0 / 200\n",
      "Epoch 123: 102.0 / 200\n",
      "Epoch 124: 102.0 / 200\n",
      "Epoch 125: 102.0 / 200\n",
      "Epoch 126: 102.0 / 200\n",
      "Epoch 127: 102.0 / 200\n",
      "Epoch 128: 102.0 / 200\n",
      "Epoch 129: 102.0 / 200\n",
      "Epoch 130: 102.0 / 200\n",
      "Epoch 131: 102.0 / 200\n",
      "Epoch 132: 102.0 / 200\n",
      "Epoch 133: 102.0 / 200\n",
      "Epoch 134: 102.0 / 200\n",
      "Epoch 135: 102.0 / 200\n",
      "Epoch 136: 102.0 / 200\n",
      "Epoch 137: 102.0 / 200\n",
      "Epoch 138: 102.0 / 200\n",
      "Epoch 139: 102.0 / 200\n",
      "Epoch 140: 102.0 / 200\n",
      "Epoch 141: 102.0 / 200\n",
      "Epoch 142: 102.0 / 200\n",
      "Epoch 143: 102.0 / 200\n",
      "Epoch 144: 102.0 / 200\n",
      "Epoch 145: 102.0 / 200\n",
      "Epoch 146: 102.0 / 200\n",
      "Epoch 147: 102.0 / 200\n",
      "Epoch 148: 102.0 / 200\n",
      "Epoch 149: 102.0 / 200\n"
     ]
    }
   ],
   "source": [
    "acc_val, MSE = SGD(f_design, label, epochs, mbs, eta, f_test, test_label)"
   ]
  },
  {
   "cell_type": "code",
   "execution_count": 65,
   "metadata": {},
   "outputs": [
    {
     "data": {
      "text/plain": [
       "(102, 0.2504617614558759)"
      ]
     },
     "execution_count": 65,
     "metadata": {},
     "output_type": "execute_result"
    }
   ],
   "source": [
    "evaluate(f_test, test_label)"
   ]
  },
  {
   "cell_type": "code",
   "execution_count": null,
   "metadata": {},
   "outputs": [],
   "source": []
  },
  {
   "cell_type": "markdown",
   "metadata": {
    "collapsed": true
   },
   "source": [
    "Evaluation auf den unabhängigen Testdaten:"
   ]
  },
  {
   "cell_type": "code",
   "execution_count": 23,
   "metadata": {},
   "outputs": [],
   "source": [
    "#print(\"Test accuracy: {0} / {1}\".format(evaluate(x1, y1), x1.shape[0]))"
   ]
  },
  {
   "cell_type": "markdown",
   "metadata": {},
   "source": [
    "Lernkurve (Genauigkeit auf Validierungsdatensatz):"
   ]
  },
  {
   "cell_type": "code",
   "execution_count": 66,
   "metadata": {},
   "outputs": [
    {
     "data": {
      "image/png": "[encoded data removed]",
      "text/plain": [
       "<Figure size 432x288 with 1 Axes>"
      ]
     },
     "metadata": {
      "needs_background": "light"
     },
     "output_type": "display_data"
    }
   ],
   "source": [
    "plt.plot(acc_val/x2.shape[0]);"
   ]
  },
  {
   "cell_type": "code",
   "execution_count": 67,
   "metadata": {},
   "outputs": [
    {
     "data": {
      "image/png": "[encoded data removed]",
      "text/plain": [
       "<Figure size 432x288 with 1 Axes>"
      ]
     },
     "metadata": {
      "needs_background": "light"
     },
     "output_type": "display_data"
    }
   ],
   "source": [
    "plt.plot(MSE/x2.shape[0]);"
   ]
  },
  {
   "cell_type": "markdown",
   "metadata": {},
   "source": [
    "Trainierte rezeptive Felder:"
   ]
  },
  {
   "cell_type": "code",
   "execution_count": null,
   "metadata": {},
   "outputs": [],
   "source": [
    "labels = range(no_hidden)\n",
    "plot_gallery(weights[0][:10,:],labels, shape=(28, 28))"
   ]
  },
  {
   "cell_type": "code",
   "execution_count": null,
   "metadata": {},
   "outputs": [],
   "source": [
    "labels = range(10)\n",
    "plot_gallery(weights[1],labels, shape=(36,1))"
   ]
  },
  {
   "cell_type": "code",
   "execution_count": null,
   "metadata": {},
   "outputs": [],
   "source": []
  }
 ],
 "metadata": {
  "kernelspec": {
   "display_name": "Python 3",
   "language": "python",
   "name": "python3"
  },
  "language_info": {
   "codemirror_mode": {
    "name": "ipython",
    "version": 3
   },
   "file_extension": ".py",
   "mimetype": "text/x-python",
   "name": "python",
   "nbconvert_exporter": "python",
   "pygments_lexer": "ipython3",
   "version": "3.7.3"
  }
 },
 "nbformat": 4,
 "nbformat_minor": 2
}
