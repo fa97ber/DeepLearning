{
 "cells": [
  {
   "cell_type": "markdown",
   "metadata": {},
   "source": [
    "<h2>Prediction of time series with different neural networks architectures</h2>\n",
    "\n",
    "In this notebook we will use different network architectures to predict the next steps for a time series. We compare:\n",
    "\n",
    "- 1D causal convolutional networks\n",
    "- 1D causal convolutional networks witho dilation rate\n",
    "- RNNs\n",
    "- LSTMs\n",
    "\n",
    "We forecast a time series for longer times than we trained them on and compare the results of the different architectures. The goal is to capture the longterm dependencies of the time series."
   ]
  },
  {
   "cell_type": "code",
   "execution_count": 3,
   "metadata": {},
   "outputs": [
    {
     "data": {
      "text/plain": [
       "False"
      ]
     },
     "execution_count": 3,
     "metadata": {},
     "output_type": "execute_result"
    }
   ],
   "source": [
    "try: #If running in colab \n",
    "    import google.colab\n",
    "    IN_COLAB = True \n",
    "    %tensorflow_version 2.x\n",
    "except:\n",
    "    IN_COLAB = False\n",
    "IN_COLAB"
   ]
  },
  {
   "cell_type": "code",
   "execution_count": 5,
   "metadata": {},
   "outputs": [
    {
     "data": {
      "text/plain": [
       "'2.0.0'"
      ]
     },
     "execution_count": 5,
     "metadata": {},
     "output_type": "execute_result"
    }
   ],
   "source": [
    "# load required libraries:\n",
    "import numpy as np\n",
    "import matplotlib.pyplot as plt\n",
    "%matplotlib inline\n",
    "\n",
    "import tensorflow as tf\n",
    "from tensorflow.keras.models import Sequential\n",
    "from tensorflow.keras.layers import Dense, Lambda, Convolution1D,LSTM, SimpleRNN\n",
    "tf.__version__"
   ]
  },
  {
   "cell_type": "markdown",
   "metadata": {},
   "source": [
    "<h2>Simulate some data</h2>\n",
    "\n",
    "We produce training data with two different time scales and a bit of noise. This produces 1000 curves which all follow the same pattern: a fast changing sine wave where the amplitude is modulated by a sine wave with lower frequency. To make it a bit more challenging, we add some noise at each timestep of the waves. All of the 1000 waves have the same pattern, however, the starting point is randomly shifted in time. One such example is shown the plot below. The first 128 data points are used as an input to the model (shown as a line). The model should predict the following 10 data points (shown as points). Note that the future data does not follow a smooth curve, but instead is ragged because of the random noise present in the data."
   ]
  },
  {
   "cell_type": "code",
   "execution_count": 92,
   "metadata": {},
   "outputs": [
    {
     "data": {
      "image/png": "[encoded data removed]",
      "text/plain": [
       "<Figure size 360x144 with 1 Axes>"
      ]
     },
     "metadata": {
      "needs_background": "light"
     },
     "output_type": "display_data"
    },
    {
     "data": {
      "image/png": "[encoded data removed]",
      "text/plain": [
       "<Figure size 360x144 with 1 Axes>"
      ]
     },
     "metadata": {
      "needs_background": "light"
     },
     "output_type": "display_data"
    },
    {
     "name": "stdout",
     "output_type": "stream",
     "text": [
      "The training data X (solid) line and the next predictions Y (dotted), which should be forecasted.\n"
     ]
    }
   ],
   "source": [
    "seq_length = 128  # Sequence length used for training\n",
    "look_ahead =  10  # The number of data points the model should predict \n",
    "\n",
    "\n",
    "def gen_data(size=1000, noise=0.1): # We create 1000 data-points\n",
    "  s = seq_length + look_ahead\n",
    "  d = np.zeros((size, s,1))\n",
    "  for i in range(size):\n",
    "    start = np.random.uniform(0, 2*np.pi) # Random start point\n",
    "    d[i,:,0] = np.sin(start + np.linspace(0, 20*np.pi, s)) * np.sin(start + np.linspace(0, np.pi, s)) + np.random.normal(0,noise,s)\n",
    "  return d[:,0:seq_length], d[:,seq_length:s]\n",
    "\n",
    "\n",
    "X,Y = gen_data()\n",
    "for i in range(2):\n",
    "  plt.figure(num=None, figsize=(5,2))  \n",
    "  plt.plot(range(0, seq_length),X[i,:,0],'b-')\n",
    "  plt.plot(range(seq_length, seq_length + look_ahead),Y[i,:,0],'bo',color='orange')\n",
    "\n",
    "plt.show()\n",
    "print('The training data X (solid) line and the next predictions Y (dotted), which should be forecasted.')"
   ]
  },
  {
   "cell_type": "markdown",
   "metadata": {},
   "source": [
    "<h1>A) 1D Convolution without dilation rate</h1>\n",
    "\n",
    "<h3>Build network</h3>\n",
    "\n",
    "Here we define a Neural network with 1D convolutions and \"causal\" padding.\n",
    "\n",
    "Build a first model using the causal convolutions. Don't specify the sequence length (batch_input_shape=(None, None, 1)), so you can use a different sequence length in prediction later. The network should have 4, 1-dimensional convolutional layers, with a kernelsize of ks=5 and 32 feartures. Use the keras function `Convolution1D` for that. The network should report 10 values that the end. You can achive this with the function.\n",
    "\n",
    "    {pyhon}\n",
    "    def slice(x, slice_length):\n",
    "        return x[:,-slice_length:,:]\n",
    "    ...\n",
    "    model1.add(Lambda(slice, arguments={'slice_length':look_ahead}))\n",
    "\n",
    "Which you add at the end of the network.\n",
    "\n",
    "Use the first 800 sequences for training and the last 200 for validation. As loss function we use the mean squared error (MSE). You should get a MSE of approx 0.02 to 0.03."
   ]
  },
  {
   "cell_type": "code",
   "execution_count": 20,
   "metadata": {},
   "outputs": [],
   "source": [
    "def slice(x, slice_length):\n",
    "    return x[:,-slice_length:,:]"
   ]
  },
  {
   "cell_type": "code",
   "execution_count": 45,
   "metadata": {},
   "outputs": [],
   "source": [
    "X,Y = gen_data()\n",
    "model = Sequential()\n",
    "model.add(Convolution1D(32, kernel_size=5, padding='causal', batch_input_shape=(None, None, 1)))\n",
    "model.add(Convolution1D(32, kernel_size=5, padding='causal'))\n",
    "model.add(Convolution1D(32, kernel_size=5, padding='causal'))\n",
    "model.add(Convolution1D(32, kernel_size=5, padding='causal'))\n",
    "model.add(Dense(1))\n",
    "model.add(Lambda(slice, arguments={'slice_length':look_ahead}))"
   ]
  },
  {
   "cell_type": "code",
   "execution_count": 46,
   "metadata": {},
   "outputs": [
    {
     "name": "stdout",
     "output_type": "stream",
     "text": [
      "Model: \"sequential_13\"\n",
      "_________________________________________________________________\n",
      "Layer (type)                 Output Shape              Param #   \n",
      "=================================================================\n",
      "conv1d_30 (Conv1D)           (None, None, 32)          192       \n",
      "_________________________________________________________________\n",
      "conv1d_31 (Conv1D)           (None, None, 32)          5152      \n",
      "_________________________________________________________________\n",
      "conv1d_32 (Conv1D)           (None, None, 32)          5152      \n",
      "_________________________________________________________________\n",
      "conv1d_33 (Conv1D)           (None, None, 32)          5152      \n",
      "_________________________________________________________________\n",
      "dense_5 (Dense)              (None, None, 1)           33        \n",
      "_________________________________________________________________\n",
      "lambda_5 (Lambda)            (None, None, 1)           0         \n",
      "=================================================================\n",
      "Total params: 15,681\n",
      "Trainable params: 15,681\n",
      "Non-trainable params: 0\n",
      "_________________________________________________________________\n"
     ]
    }
   ],
   "source": [
    "model.summary()"
   ]
  },
  {
   "cell_type": "code",
   "execution_count": 47,
   "metadata": {},
   "outputs": [],
   "source": [
    "model.compile(optimizer='adam', loss='mean_squared_error')"
   ]
  },
  {
   "cell_type": "code",
   "execution_count": 48,
   "metadata": {},
   "outputs": [
    {
     "name": "stdout",
     "output_type": "stream",
     "text": [
      "Train on 800 samples, validate on 200 samples\n",
      "Epoch 1/10\n",
      "800/800 [==============================] - 1s 2ms/sample - loss: 0.0464 - val_loss: 0.0329\n",
      "Epoch 2/10\n",
      "800/800 [==============================] - 0s 470us/sample - loss: 0.0291 - val_loss: 0.0277\n",
      "Epoch 3/10\n",
      "800/800 [==============================] - 0s 440us/sample - loss: 0.0261 - val_loss: 0.0260\n",
      "Epoch 4/10\n",
      "800/800 [==============================] - 0s 439us/sample - loss: 0.0254 - val_loss: 0.0267\n",
      "Epoch 5/10\n",
      "800/800 [==============================] - 0s 438us/sample - loss: 0.0255 - val_loss: 0.0258\n",
      "Epoch 6/10\n",
      "800/800 [==============================] - 0s 438us/sample - loss: 0.0248 - val_loss: 0.0271\n",
      "Epoch 7/10\n",
      "800/800 [==============================] - 0s 431us/sample - loss: 0.0255 - val_loss: 0.0286\n",
      "Epoch 8/10\n",
      "800/800 [==============================] - 0s 443us/sample - loss: 0.0254 - val_loss: 0.0274\n",
      "Epoch 9/10\n",
      "800/800 [==============================] - 0s 551us/sample - loss: 0.0246 - val_loss: 0.0252\n",
      "Epoch 10/10\n",
      "800/800 [==============================] - 1s 957us/sample - loss: 0.0254 - val_loss: 0.0255\n"
     ]
    }
   ],
   "source": [
    "history = model.fit(X[:800], Y[:800],\n",
    "          epochs=10,\n",
    "          validation_data=(X[800:], Y[800:]))"
   ]
  },
  {
   "cell_type": "markdown",
   "metadata": {},
   "source": [
    "<h3>Make repeated predictions</h3>\n",
    "\n",
    "Since we work with simulated data, we can produce as much new data as we like. We can also switch off the noise and check how well the model can extract the real underlying pattern in the data."
   ]
  },
  {
   "cell_type": "code",
   "execution_count": 76,
   "metadata": {},
   "outputs": [
    {
     "name": "stdout",
     "output_type": "stream",
     "text": [
      "(1, 128, 1)\n",
      "(1, 10, 1)\n"
     ]
    },
    {
     "data": {
      "text/plain": [
       "(1, 138, 1)"
      ]
     },
     "execution_count": 76,
     "metadata": {},
     "output_type": "execute_result"
    }
   ],
   "source": [
    "x_test,y_test = gen_data(size=1,noise=0.0)\n",
    "print(x_test.shape)\n",
    "print(y_test.shape)\n",
    "pred = model.predict(x_test).reshape(-1)#Predicts 10 value\n",
    "\n",
    "pred = pred.reshape(1,look_ahead,1)\n",
    "np.concatenate((x_test, pred), axis=1).shape"
   ]
  },
  {
   "cell_type": "markdown",
   "metadata": {},
   "source": [
    "Write a function which predicts 10 values from a starting sequence of size 128. Then add these predicted values to the starting sequence and uses this sequence of length 138 as a new starting sequence. Repeat this procedure 12 times. You should get a prediction for 120 time points in the future."
   ]
  },
  {
   "cell_type": "code",
   "execution_count": 79,
   "metadata": {},
   "outputs": [],
   "source": [
    "def predict_values(starting_sequence, repeats=12):\n",
    "    x_test = starting_sequence\n",
    "    for _ in range(repeats):\n",
    "        pred = model.predict(x_test).reshape(-1).reshape(1,look_ahead,1)\n",
    "        x_test = np.concatenate((x_test, pred), axis=1)\n",
    "    return x_test"
   ]
  },
  {
   "cell_type": "code",
   "execution_count": 108,
   "metadata": {},
   "outputs": [
    {
     "data": {
      "text/plain": [
       "(1, 248, 1)"
      ]
     },
     "execution_count": 108,
     "metadata": {},
     "output_type": "execute_result"
    }
   ],
   "source": [
    "x_test,y_test = gen_data(size=1,noise=0.0)\n",
    "values = predict_values(x_test)\n",
    "x = np.zeros(values.shape)\n",
    "x[0,:seq_length,0] = x_test[0,:,0]\n",
    "values.shape"
   ]
  },
  {
   "cell_type": "code",
   "execution_count": 109,
   "metadata": {},
   "outputs": [
    {
     "data": {
      "image/png": "[encoded data removed]",
      "text/plain": [
       "<Figure size 720x288 with 1 Axes>"
      ]
     },
     "metadata": {
      "needs_background": "light"
     },
     "output_type": "display_data"
    }
   ],
   "source": [
    "plt.figure(num=None, figsize=(10,4))  \n",
    "plt.plot(x[0,:,0])\n",
    "plt.plot(values[0,:,0])\n",
    "\n",
    "plt.show()"
   ]
  }
 ],
 "metadata": {
  "kernelspec": {
   "display_name": "Python 3",
   "language": "python",
   "name": "python3"
  },
  "language_info": {
   "codemirror_mode": {
    "name": "ipython",
    "version": 3
   },
   "file_extension": ".py",
   "mimetype": "text/x-python",
   "name": "python",
   "nbconvert_exporter": "python",
   "pygments_lexer": "ipython3",
   "version": "3.7.3"
  }
 },
 "nbformat": 4,
 "nbformat_minor": 2
}
